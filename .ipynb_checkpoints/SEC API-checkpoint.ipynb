{
 "cells": [
  {
   "cell_type": "code",
   "execution_count": 1,
   "metadata": {},
   "outputs": [],
   "source": [
    "import requests\n",
    "import json\n",
    "import pandas as pd\n",
    "from pandas import ExcelWriter"
   ]
  },
  {
   "cell_type": "code",
   "execution_count": 51,
   "metadata": {},
   "outputs": [],
   "source": [
    "headers = {\n",
    "    # Request headers\n",
    "    'Ocp-Apim-Subscription-Key': 'e94dac999a91402f828e55f120d68292' # Don't forget to put your keys in xxxx\n",
    "}"
   ]
  },
  {
   "cell_type": "code",
   "execution_count": 52,
   "metadata": {},
   "outputs": [],
   "source": [
    "from ratelimit import *\n",
    "import requests"
   ]
  },
  {
   "cell_type": "code",
   "execution_count": 53,
   "metadata": {},
   "outputs": [],
   "source": [
    "# 1 วิ เรียกได้ 5 ครั้ง\n",
    "class RateLimiter:\n",
    "    def __init__(self, headers):\n",
    "        headers = headers\n",
    "        return\n",
    "    @rate_limited(1500, 300)\n",
    "    def call_get_api(self, url):\n",
    "        response = requests.get(url, headers=headers)\n",
    "\n",
    "        if response.status_code != 200:\n",
    "            print('Cannot call API: {}'.format(response.status_code))\n",
    "        return response"
   ]
  },
  {
   "cell_type": "code",
   "execution_count": 54,
   "metadata": {},
   "outputs": [],
   "source": [
    "limiter = RateLimiter(headers)"
   ]
  },
  {
   "cell_type": "code",
   "execution_count": 57,
   "metadata": {},
   "outputs": [],
   "source": [
    "req = requests.get(f'https://api.sec.or.th/FundFactsheet/fund/amc', headers = headers)\n",
    "amc = pd.read_json(req.content)"
   ]
  },
  {
   "cell_type": "code",
   "execution_count": 71,
   "metadata": {},
   "outputs": [],
   "source": [
    "my_amc = amc.loc[[0,11]]"
   ]
  },
  {
   "cell_type": "code",
   "execution_count": 82,
   "metadata": {},
   "outputs": [
    {
     "name": "stdout",
     "output_type": "stream",
     "text": [
      "There are in total 12086 funds\n"
     ]
    }
   ],
   "source": [
    "all_funds = pd.DataFrame(columns=['proj_id', 'proj_abbr_name','proj_name_en', 'proj_name_th','unique_id'])\n",
    "\n",
    "for unique_id in amc.unique_id:\n",
    "    req = requests.get(f'https://api.sec.or.th/FundFactsheet/fund/amc/{unique_id}', headers = headers)\n",
    "    projects = pd.read_json(req.content)\n",
    "    all_funds = all_funds.append(projects[['proj_id', 'proj_abbr_name','proj_name_en', 'proj_name_th','unique_id']])\n",
    "\n",
    "print(f'There are in total {len(all_funds.index)} funds')"
   ]
  },
  {
   "cell_type": "code",
   "execution_count": 84,
   "metadata": {},
   "outputs": [],
   "source": [
    "all_funds.to_csv('all_funds1.csv')"
   ]
  },
  {
   "cell_type": "code",
   "execution_count": 85,
   "metadata": {},
   "outputs": [],
   "source": [
    "my_fundlist = ['KFSDIV','KFSEQ-D','KF-LTFDIV','KFGBRAND','KFGDIV','KFGG','K-CASH','K-INDIA','K-US500X','K-USXNDQ']"
   ]
  },
  {
   "cell_type": "code",
   "execution_count": 86,
   "metadata": {},
   "outputs": [
    {
     "data": {
      "text/html": [
       "<div>\n",
       "<style scoped>\n",
       "    .dataframe tbody tr th:only-of-type {\n",
       "        vertical-align: middle;\n",
       "    }\n",
       "\n",
       "    .dataframe tbody tr th {\n",
       "        vertical-align: top;\n",
       "    }\n",
       "\n",
       "    .dataframe thead th {\n",
       "        text-align: right;\n",
       "    }\n",
       "</style>\n",
       "<table border=\"1\" class=\"dataframe\">\n",
       "  <thead>\n",
       "    <tr style=\"text-align: right;\">\n",
       "      <th></th>\n",
       "      <th>proj_id</th>\n",
       "      <th>proj_abbr_name</th>\n",
       "      <th>proj_name_en</th>\n",
       "      <th>proj_name_th</th>\n",
       "      <th>unique_id</th>\n",
       "    </tr>\n",
       "  </thead>\n",
       "  <tbody>\n",
       "    <tr>\n",
       "      <th>137</th>\n",
       "      <td>M0059_2554</td>\n",
       "      <td>K-INDIA</td>\n",
       "      <td>K India Equity Fund</td>\n",
       "      <td>กองทุนเปิดเค อินเดีย หุ้นทุน</td>\n",
       "      <td>C0000000021</td>\n",
       "    </tr>\n",
       "    <tr>\n",
       "      <th>656</th>\n",
       "      <td>M0257_2564</td>\n",
       "      <td>K-US500X</td>\n",
       "      <td>K US Equity Passive Fund</td>\n",
       "      <td>กองทุนเปิดเค หุ้นยูเอส พาสซีฟ</td>\n",
       "      <td>C0000000021</td>\n",
       "    </tr>\n",
       "    <tr>\n",
       "      <th>932</th>\n",
       "      <td>M0369_2555</td>\n",
       "      <td>K-USXNDQ</td>\n",
       "      <td>K US Equity NDQ 100 Index Fund</td>\n",
       "      <td>กองทุนเปิดเค หุ้นยูเอส ดัชนีเอ็นดีคิว 100</td>\n",
       "      <td>C0000000021</td>\n",
       "    </tr>\n",
       "    <tr>\n",
       "      <th>1603</th>\n",
       "      <td>M0705_2548</td>\n",
       "      <td>K-CASH</td>\n",
       "      <td>K Cash Management Fund</td>\n",
       "      <td>กองทุนเปิดเค บริหารเงิน</td>\n",
       "      <td>C0000000021</td>\n",
       "    </tr>\n",
       "    <tr>\n",
       "      <th>21</th>\n",
       "      <td>M0023_2540</td>\n",
       "      <td>KFSEQ-D</td>\n",
       "      <td>Krungsri Star Equity Dividend Fund</td>\n",
       "      <td>กองทุนเปิดกรุงศรีอิควิตี้ปันผล</td>\n",
       "      <td>C0000000709</td>\n",
       "    </tr>\n",
       "    <tr>\n",
       "      <th>106</th>\n",
       "      <td>M0074_2563</td>\n",
       "      <td>KFGDIV</td>\n",
       "      <td>Krungsri Global Dividend Hedged FX Fund</td>\n",
       "      <td>กองทุนเปิดกรุงศรีโกลบอลดิวิเดนด์เฮดจ์เอฟเอ็กซ์</td>\n",
       "      <td>C0000000709</td>\n",
       "    </tr>\n",
       "    <tr>\n",
       "      <th>120</th>\n",
       "      <td>M0081_2550</td>\n",
       "      <td>KFSDIV</td>\n",
       "      <td>Krungsri Dividend Stock Fund</td>\n",
       "      <td>กองทุนเปิดกรุงศรีหุ้นปันผล</td>\n",
       "      <td>C0000000709</td>\n",
       "    </tr>\n",
       "    <tr>\n",
       "      <th>279</th>\n",
       "      <td>M0264_2564</td>\n",
       "      <td>KFGG</td>\n",
       "      <td>Krungsri Global Growth Fund</td>\n",
       "      <td>กองทุนเปิดกรุงศรีโกลบอลโกรท</td>\n",
       "      <td>C0000000709</td>\n",
       "    </tr>\n",
       "    <tr>\n",
       "      <th>327</th>\n",
       "      <td>M0317_2559</td>\n",
       "      <td>KFGBRAND</td>\n",
       "      <td>Krungsri Global Brands Equity Fund</td>\n",
       "      <td>กองทุนเปิดกรุงศรีโกลบอลแบรนด์อิควิตี้</td>\n",
       "      <td>C0000000709</td>\n",
       "    </tr>\n",
       "    <tr>\n",
       "      <th>585</th>\n",
       "      <td>M0607_2547</td>\n",
       "      <td>KF-LTFDIV</td>\n",
       "      <td>Krungsri LTF Dividend Stock</td>\n",
       "      <td>กองทุนเปิดกรุงศรีหุ้นระยะยาวปันผล LTF</td>\n",
       "      <td>C0000000709</td>\n",
       "    </tr>\n",
       "  </tbody>\n",
       "</table>\n",
       "</div>"
      ],
      "text/plain": [
       "         proj_id proj_abbr_name                             proj_name_en  \\\n",
       "137   M0059_2554        K-INDIA                      K India Equity Fund   \n",
       "656   M0257_2564       K-US500X                 K US Equity Passive Fund   \n",
       "932   M0369_2555       K-USXNDQ           K US Equity NDQ 100 Index Fund   \n",
       "1603  M0705_2548         K-CASH                   K Cash Management Fund   \n",
       "21    M0023_2540        KFSEQ-D       Krungsri Star Equity Dividend Fund   \n",
       "106   M0074_2563         KFGDIV  Krungsri Global Dividend Hedged FX Fund   \n",
       "120   M0081_2550         KFSDIV             Krungsri Dividend Stock Fund   \n",
       "279   M0264_2564           KFGG              Krungsri Global Growth Fund   \n",
       "327   M0317_2559       KFGBRAND       Krungsri Global Brands Equity Fund   \n",
       "585   M0607_2547      KF-LTFDIV              Krungsri LTF Dividend Stock   \n",
       "\n",
       "                                        proj_name_th    unique_id  \n",
       "137                     กองทุนเปิดเค อินเดีย หุ้นทุน  C0000000021  \n",
       "656                    กองทุนเปิดเค หุ้นยูเอส พาสซีฟ  C0000000021  \n",
       "932        กองทุนเปิดเค หุ้นยูเอส ดัชนีเอ็นดีคิว 100  C0000000021  \n",
       "1603                         กองทุนเปิดเค บริหารเงิน  C0000000021  \n",
       "21                    กองทุนเปิดกรุงศรีอิควิตี้ปันผล  C0000000709  \n",
       "106   กองทุนเปิดกรุงศรีโกลบอลดิวิเดนด์เฮดจ์เอฟเอ็กซ์  C0000000709  \n",
       "120                       กองทุนเปิดกรุงศรีหุ้นปันผล  C0000000709  \n",
       "279                      กองทุนเปิดกรุงศรีโกลบอลโกรท  C0000000709  \n",
       "327            กองทุนเปิดกรุงศรีโกลบอลแบรนด์อิควิตี้  C0000000709  \n",
       "585            กองทุนเปิดกรุงศรีหุ้นระยะยาวปันผล LTF  C0000000709  "
      ]
     },
     "execution_count": 86,
     "metadata": {},
     "output_type": "execute_result"
    }
   ],
   "source": [
    "all_funds[all_funds['proj_abbr_name'].isin(my_fundlist)]"
   ]
  },
  {
   "cell_type": "code",
   "execution_count": null,
   "metadata": {},
   "outputs": [],
   "source": [
    "# Create a place to hold risk_spectrum\n",
    "riskDF = pd.DataFrame(columns=['proj_id', 'risk_spectrum'])\n",
    "\n",
    "# Just something to track the progress\n",
    "count = 0\n",
    "progressstep = 10\n",
    "itr = 0\n",
    "for proj_id in all_funds.proj_id:\n",
    "    count += 1\n",
    "    if(count > (itr*progressstep) * len(all_funds.index) / 100) :\n",
    "        print(f'{itr*progressstep} % completed')\n",
    "        print(f'Estimate time to complete: {len(all_funds.index - count) / 4} seconds')\n",
    "        itr += 1\n",
    "\n",
    "    req = limiter.call_get_api(url=f'https://api.sec.or.th/FundFactsheet/fund/{proj_id}/suitability')\n",
    "    temp_data = json.loads(req.content)\n",
    "    riskDF = riskDF.append([{'proj_id': proj_id, 'risk_spectrum': temp_data.get('risk_spectrum')}], ignore_index=True)"
   ]
  },
  {
   "cell_type": "code",
   "execution_count": null,
   "metadata": {},
   "outputs": [],
   "source": [
    "all_funds = all_funds.merge(riskDF)\n",
    "all_funds = all_funds.set_index('proj_id')"
   ]
  },
  {
   "cell_type": "code",
   "execution_count": null,
   "metadata": {},
   "outputs": [],
   "source": [
    "all_fund"
   ]
  },
  {
   "cell_type": "code",
   "execution_count": 42,
   "metadata": {},
   "outputs": [],
   "source": [
    "import urllib.request, json"
   ]
  },
  {
   "cell_type": "code",
   "execution_count": 45,
   "metadata": {},
   "outputs": [
    {
     "name": "stdout",
     "output_type": "stream",
     "text": [
      "'latin-1' codec can't encode characters in position 0-31: ordinal not in range(256)\n"
     ]
    }
   ],
   "source": [
    "try:\n",
    "    url = \"https://api.sec.or.th/FundDailyInfo/KFLTFDIV/dailynav/2022%2F04%2F20\"\n",
    "\n",
    "    hdr ={\n",
    "    # Request headers\n",
    "    'Cache-Control': 'no-cache',\n",
    "    'Ocp-Apim-Subscription-Key': '••••••••••••••••••••••••••••••••',\n",
    "    }\n",
    "\n",
    "    req = urllib.request.Request(url, headers=hdr)\n",
    "\n",
    "    req.get_method = lambda: 'GET'\n",
    "    response = urllib.request.urlopen(req)\n",
    "    print(response.getcode())\n",
    "    print(response.read())\n",
    "except Exception as e:\n",
    "    print(e)\n"
   ]
  },
  {
   "cell_type": "code",
   "execution_count": null,
   "metadata": {},
   "outputs": [],
   "source": []
  }
 ],
 "metadata": {
  "kernelspec": {
   "display_name": "Python 3",
   "language": "python",
   "name": "python3"
  },
  "language_info": {
   "codemirror_mode": {
    "name": "ipython",
    "version": 3
   },
   "file_extension": ".py",
   "mimetype": "text/x-python",
   "name": "python",
   "nbconvert_exporter": "python",
   "pygments_lexer": "ipython3",
   "version": "3.7.6"
  }
 },
 "nbformat": 4,
 "nbformat_minor": 4
}
